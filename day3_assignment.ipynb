{
 "cells": [
  {
   "cell_type": "markdown",
   "metadata": {},
   "source": [
    "Write a function that takes in a non-empty array of distinct integers and an integer representing a target sum. The function should find all the triplets in the array that sum up to the target sum and return a two-dimensional array of all these triplets. The numbers in each triplet should be ordered in ascending order, and the triplets themselves should be ordered in ascending order with respect to the numbers they hold. If no three numbers sum up to the target sum, the function should return an empty array.\n"
   ]
  },
  {
   "cell_type": "code",
   "execution_count": 13,
   "metadata": {},
   "outputs": [],
   "source": [
    "def func(array,target_sum):\n",
    "    answer = []\n",
    "    #iterating from index 0 to second to the last index\n",
    "    for i in range(0,len(array)-1):\n",
    "        #attributing the value of the index to  array\n",
    "        first_num = array[i] \n",
    "        #iterating from next index after i to the last index\n",
    "        for j in range(i+1,len(array)):\n",
    "            second_num = array[j]\n",
    "            #iterating from second index after i to third to the last index\n",
    "            for k in range(i+2,len(array)-2):\n",
    "                third_num = array[k]\n",
    "                #checking if the sum of the numbers are equal to the target sum\n",
    "                if first_num + second_num + third_num == target_sum:\n",
    "                    #appending the numbers to the variable answer as an array\n",
    "                    answer.append([first_num,second_num,third_num])\n",
    "                    #looping through each array in variable answer and sorting in ascending order\n",
    "                    for v in answer:\n",
    "                        v.sort()\n",
    "    return sorted(answer)\n",
    "                    \n",
    "                "
   ]
  },
  {
   "cell_type": "code",
   "execution_count": 14,
   "metadata": {},
   "outputs": [
    {
     "data": {
      "text/plain": [
       "[[-1, 1, 7], [-1, 2, 6], [0, 1, 6], [0, 2, 5], [1, 2, 4]]"
      ]
     },
     "execution_count": 14,
     "metadata": {},
     "output_type": "execute_result"
    }
   ],
   "source": [
    "func([1,2,4,5,6,7,-1,0],7)"
   ]
  },
  {
   "cell_type": "code",
   "execution_count": 15,
   "metadata": {},
   "outputs": [
    {
     "data": {
      "text/plain": [
       "[[2, 6, 8], [3, 5, 8], [3, 5, 8], [4, 4, 8], [4, 5, 7]]"
      ]
     },
     "execution_count": 15,
     "metadata": {},
     "output_type": "execute_result"
    }
   ],
   "source": [
    "func([8,2,-1,5,6,3,4,7,0],16)"
   ]
  }
 ],
 "metadata": {
  "kernelspec": {
   "display_name": "Python 3",
   "language": "python",
   "name": "python3"
  },
  "language_info": {
   "codemirror_mode": {
    "name": "ipython",
    "version": 3
   },
   "file_extension": ".py",
   "mimetype": "text/x-python",
   "name": "python",
   "nbconvert_exporter": "python",
   "pygments_lexer": "ipython3",
   "version": "3.8.5"
  }
 },
 "nbformat": 4,
 "nbformat_minor": 4
}
