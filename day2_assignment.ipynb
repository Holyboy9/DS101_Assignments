{
 "cells": [
  {
   "cell_type": "markdown",
   "metadata": {},
   "source": [
    "Assignment 1"
   ]
  },
  {
   "cell_type": "code",
   "execution_count": 6,
   "metadata": {},
   "outputs": [
    {
     "name": "stdout",
     "output_type": "stream",
     "text": [
      "[(1, 1), (1, 5), (9, 0), (5, 4), (12, 3), (13, 6)]\n"
     ]
    }
   ],
   "source": [
    "list_1= [(1,5),(9,0),(12,3),(5,4),(13,6),(1,1)]\n",
    "#sorting the list based on the sum of thw tuples\n",
    "print(sorted(list_1, key = lambda x:x[0] + x[1]))"
   ]
  },
  {
   "cell_type": "markdown",
   "metadata": {},
   "source": [
    "Assignment 2"
   ]
  },
  {
   "cell_type": "code",
   "execution_count": 17,
   "metadata": {},
   "outputs": [
    {
     "data": {
      "text/plain": [
       "-8"
      ]
     },
     "execution_count": 17,
     "metadata": {},
     "output_type": "execute_result"
    }
   ],
   "source": [
    "list_2 = [1, 2, -8, -3]\n",
    "# finding the sum of elements of the list\n",
    "total = sum(list_2)\n",
    "total"
   ]
  },
  {
   "cell_type": "markdown",
   "metadata": {},
   "source": [
    "Assignment 3"
   ]
  },
  {
   "cell_type": "code",
   "execution_count": 9,
   "metadata": {},
   "outputs": [
    {
     "name": "stdout",
     "output_type": "stream",
     "text": [
      "4\n"
     ]
    }
   ],
   "source": [
    "list_3 = ['abc', 'xyz', 'aba', '1221', 'bhgsskknb', 'aa'] \n",
    "#creating a function to get to count all elements of the list with 2 or more letters\n",
    "#and with the same first and last letters\n",
    "def match_words(words):\n",
    "  w1 = 0\n",
    "\n",
    "  for word in words:\n",
    "    if len(word) >= 2 and word[0] == word[-1]:\n",
    "      w1 += 1\n",
    "  return w1\n",
    "#assigning the given list as argument of the function\n",
    "print(match_words(list_3))"
   ]
  },
  {
   "cell_type": "markdown",
   "metadata": {},
   "source": [
    "Assignment 4"
   ]
  },
  {
   "cell_type": "code",
   "execution_count": 12,
   "metadata": {},
   "outputs": [
    {
     "name": "stdout",
     "output_type": "stream",
     "text": [
      "1.4142135623730951\n",
      "2.0\n",
      "2.449489742783178\n",
      "2.8284271247461903\n",
      "3.1622776601683795\n"
     ]
    }
   ],
   "source": [
    "list_4 = [1,2,3,4,5,6,7,8,9,10]\n",
    "#looping through the list\n",
    "for i in list_4:\n",
    "    #getting even numbers in the list\n",
    "    if i % 2 == 0:\n",
    "        print(i**0.5)"
   ]
  },
  {
   "cell_type": "markdown",
   "metadata": {},
   "source": [
    "Assignment 5"
   ]
  },
  {
   "cell_type": "code",
   "execution_count": 11,
   "metadata": {},
   "outputs": [
    {
     "data": {
      "text/plain": [
       "{1: 'a', 2: 'b', 3: 'c', 4: 'd', 5: 'e'}"
      ]
     },
     "execution_count": 11,
     "metadata": {},
     "output_type": "execute_result"
    }
   ],
   "source": [
    "list1 = [1, 2, 3, 4, 5]\n",
    "list2 = [\"a\", \"b\",\"c\",\"d\",\"e\"]\n",
    "#aggregating the two lists using zip function and\n",
    "#converting them to dictionary using the dict function\n",
    "dict_1 = dict(zip(list1,list2))\n",
    "dict_1"
   ]
  }
 ],
 "metadata": {
  "kernelspec": {
   "display_name": "Python 3",
   "language": "python",
   "name": "python3"
  },
  "language_info": {
   "codemirror_mode": {
    "name": "ipython",
    "version": 3
   },
   "file_extension": ".py",
   "mimetype": "text/x-python",
   "name": "python",
   "nbconvert_exporter": "python",
   "pygments_lexer": "ipython3",
   "version": "3.8.5"
  }
 },
 "nbformat": 4,
 "nbformat_minor": 4
}
