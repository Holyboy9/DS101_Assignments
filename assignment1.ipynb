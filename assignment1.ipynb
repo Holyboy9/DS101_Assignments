{
 "cells": [
  {
   "cell_type": "markdown",
   "metadata": {},
   "source": [
    "##### Write a program which will find all such numbers which are divisible by 7 but are not a multiple \n",
    "##### of 5, between 1000 and 2200 (both included). The numbers obtained should be printed in a \n",
    "#### comma-separated sequence on a single line."
   ]
  },
  {
   "cell_type": "code",
   "execution_count": 1,
   "metadata": {
    "scrolled": true
   },
   "outputs": [
    {
     "name": "stdout",
     "output_type": "stream",
     "text": [
      "1001,1008,1022,1029,1036,1043,1057,1064,1071,1078,1092,1099,1106,1113,1127,1134,1141,1148,1162,1169,1176,1183,1197,1204,1211,1218,1232,1239,1246,1253,1267,1274,1281,1288,1302,1309,1316,1323,1337,1344,1351,1358,1372,1379,1386,1393,1407,1414,1421,1428,1442,1449,1456,1463,1477,1484,1491,1498,1512,1519,1526,1533,1547,1554,1561,1568,1582,1589,1596,1603,1617,1624,1631,1638,1652,1659,1666,1673,1687,1694,1701,1708,1722,1729,1736,1743,1757,1764,1771,1778,1792,1799,1806,1813,1827,1834,1841,1848,1862,1869,1876,1883,1897,1904,1911,1918,1932,1939,1946,1953,1967,1974,1981,1988,"
     ]
    }
   ],
   "source": [
    "for x in range(1000,2001):\n",
    "    if x % 7 == 0 and x % 5 != 0:\n",
    "        print(x, end = ',')"
   ]
  },
  {
   "cell_type": "markdown",
   "metadata": {},
   "source": [
    "#### Write a Python program to accept the user's first and last name and then getting them printed \n",
    "#### in the reverse order with a space between first name and last name. \n"
   ]
  },
  {
   "cell_type": "code",
   "execution_count": 2,
   "metadata": {},
   "outputs": [
    {
     "name": "stdout",
     "output_type": "stream",
     "text": [
      "enter your first name:\n",
      " greatness\n",
      "enter your last name:\n",
      " abiodun\n",
      "Your names in reverse order are: ssentaerg nudoiba"
     ]
    }
   ],
   "source": [
    "while True:\n",
    "    first_name = input(\"enter your first name:\\n \")\n",
    "    if not first_name.isalpha():\n",
    "        print('please let your name be in alphabets')\n",
    "        continue\n",
    "    else:\n",
    "        break\n",
    "\n",
    "while True:\n",
    "    last_name = input(\"enter your last name:\\n \")\n",
    "    if not last_name.isalpha():\n",
    "        print('please let your name be in alphabets')\n",
    "        continue\n",
    "    else:\n",
    "        break\n",
    "print(f\"Your names in reverse order are: {first_name[::-1]} {last_name[::-1]}\",end='')"
   ]
  },
  {
   "cell_type": "markdown",
   "metadata": {},
   "source": [
    "#### Write a program to take ten numbers from a user and display the minimum, mean, and \n",
    "#### maximum of the non-even numbers.  "
   ]
  },
  {
   "cell_type": "code",
   "execution_count": 3,
   "metadata": {},
   "outputs": [
    {
     "name": "stdout",
     "output_type": "stream",
     "text": [
      "enter a ten digit number: 1234567890\n",
      "the minimum value is 0\n",
      " maximum value is 9\n",
      " and the average is 4.5\n"
     ]
    }
   ],
   "source": [
    "while True:\n",
    "    value = input('enter a ten digit number: ')\n",
    "    if not value.isdigit():\n",
    "        print('Only integers will be accepted')\n",
    "        continue\n",
    "    elif len(value) != 10:\n",
    "        print('it has to be a ten digit number!!')\n",
    "        continue\n",
    "    else:\n",
    "        break\n",
    "#converting value to a list of integers\n",
    "number = [int(x) for x in str(value)]\n",
    "print(f\"the minimum value is {min(number)}\\n maximum value is {max(number)}\\n and the average is {sum(number)/len(number)}\")"
   ]
  }
 ],
 "metadata": {
  "kernelspec": {
   "display_name": "Python 3",
   "language": "python",
   "name": "python3"
  },
  "language_info": {
   "codemirror_mode": {
    "name": "ipython",
    "version": 3
   },
   "file_extension": ".py",
   "mimetype": "text/x-python",
   "name": "python",
   "nbconvert_exporter": "python",
   "pygments_lexer": "ipython3",
   "version": "3.8.5"
  }
 },
 "nbformat": 4,
 "nbformat_minor": 4
}
